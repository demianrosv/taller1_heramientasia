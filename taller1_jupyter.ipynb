{
 "cells": [
  {
   "cell_type": "markdown",
   "id": "18439df5-74d8-491c-85b8-748ba0278980",
   "metadata": {},
   "source": [
    "Taller 1:\n",
    "\n",
    "Estudiante: Damián Rosero Vinueza\n",
    "\n",
    "Descargamos las librerías iniciales para crear los datos con Faker, Pandas para trabajar con los datos y numpy para las operaciones matemáticas"
   ]
  },
  {
   "cell_type": "code",
   "execution_count": 1,
   "id": "9c087803-978f-49f4-a299-594b8cf0cafe",
   "metadata": {},
   "outputs": [
    {
     "name": "stdout",
     "output_type": "stream",
     "text": [
      "Collecting Faker\n",
      "  Using cached faker-37.1.0-py3-none-any.whl.metadata (15 kB)\n",
      "Collecting pandas\n",
      "  Using cached pandas-2.2.3-cp312-cp312-win_amd64.whl.metadata (19 kB)\n",
      "Collecting numpy\n",
      "  Using cached numpy-2.2.5-cp312-cp312-win_amd64.whl.metadata (60 kB)\n",
      "Collecting tzdata (from Faker)\n",
      "  Using cached tzdata-2025.2-py2.py3-none-any.whl.metadata (1.4 kB)\n",
      "Requirement already satisfied: python-dateutil>=2.8.2 in c:\\utpl\\hia\\taller1\\lib\\site-packages (from pandas) (2.9.0.post0)\n",
      "Collecting pytz>=2020.1 (from pandas)\n",
      "  Using cached pytz-2025.2-py2.py3-none-any.whl.metadata (22 kB)\n",
      "Requirement already satisfied: six>=1.5 in c:\\utpl\\hia\\taller1\\lib\\site-packages (from python-dateutil>=2.8.2->pandas) (1.17.0)\n",
      "Using cached faker-37.1.0-py3-none-any.whl (1.9 MB)\n",
      "Using cached pandas-2.2.3-cp312-cp312-win_amd64.whl (11.5 MB)\n",
      "Using cached numpy-2.2.5-cp312-cp312-win_amd64.whl (12.6 MB)\n",
      "Using cached pytz-2025.2-py2.py3-none-any.whl (509 kB)\n",
      "Using cached tzdata-2025.2-py2.py3-none-any.whl (347 kB)\n",
      "Installing collected packages: pytz, tzdata, numpy, pandas, Faker\n",
      "\n",
      "   ---------------------------------------- 0/5 [pytz]\n",
      "   ---------------------------------------- 0/5 [pytz]\n",
      "   -------- ------------------------------- 1/5 [tzdata]\n",
      "   -------- ------------------------------- 1/5 [tzdata]\n",
      "   ---------------- ----------------------- 2/5 [numpy]\n",
      "   ---------------- ----------------------- 2/5 [numpy]\n",
      "   ---------------- ----------------------- 2/5 [numpy]\n",
      "   ---------------- ----------------------- 2/5 [numpy]\n",
      "   ---------------- ----------------------- 2/5 [numpy]\n",
      "   ---------------- ----------------------- 2/5 [numpy]\n",
      "   ---------------- ----------------------- 2/5 [numpy]\n",
      "   ---------------- ----------------------- 2/5 [numpy]\n",
      "   ---------------- ----------------------- 2/5 [numpy]\n",
      "   ---------------- ----------------------- 2/5 [numpy]\n",
      "   ---------------- ----------------------- 2/5 [numpy]\n",
      "   ---------------- ----------------------- 2/5 [numpy]\n",
      "   ---------------- ----------------------- 2/5 [numpy]\n",
      "   ---------------- ----------------------- 2/5 [numpy]\n",
      "   ---------------- ----------------------- 2/5 [numpy]\n",
      "   ---------------- ----------------------- 2/5 [numpy]\n",
      "   ------------------------ --------------- 3/5 [pandas]\n",
      "   ------------------------ --------------- 3/5 [pandas]\n",
      "   ------------------------ --------------- 3/5 [pandas]\n",
      "   ------------------------ --------------- 3/5 [pandas]\n",
      "   ------------------------ --------------- 3/5 [pandas]\n",
      "   ------------------------ --------------- 3/5 [pandas]\n",
      "   ------------------------ --------------- 3/5 [pandas]\n",
      "   ------------------------ --------------- 3/5 [pandas]\n",
      "   ------------------------ --------------- 3/5 [pandas]\n",
      "   ------------------------ --------------- 3/5 [pandas]\n",
      "   ------------------------ --------------- 3/5 [pandas]\n",
      "   ------------------------ --------------- 3/5 [pandas]\n",
      "   ------------------------ --------------- 3/5 [pandas]\n",
      "   ------------------------ --------------- 3/5 [pandas]\n",
      "   ------------------------ --------------- 3/5 [pandas]\n",
      "   ------------------------ --------------- 3/5 [pandas]\n",
      "   ------------------------ --------------- 3/5 [pandas]\n",
      "   ------------------------ --------------- 3/5 [pandas]\n",
      "   ------------------------ --------------- 3/5 [pandas]\n",
      "   ------------------------ --------------- 3/5 [pandas]\n",
      "   ------------------------ --------------- 3/5 [pandas]\n",
      "   ------------------------ --------------- 3/5 [pandas]\n",
      "   ------------------------ --------------- 3/5 [pandas]\n",
      "   ------------------------ --------------- 3/5 [pandas]\n",
      "   ------------------------ --------------- 3/5 [pandas]\n",
      "   ------------------------ --------------- 3/5 [pandas]\n",
      "   ------------------------ --------------- 3/5 [pandas]\n",
      "   ------------------------ --------------- 3/5 [pandas]\n",
      "   ------------------------ --------------- 3/5 [pandas]\n",
      "   ------------------------ --------------- 3/5 [pandas]\n",
      "   ------------------------ --------------- 3/5 [pandas]\n",
      "   ------------------------ --------------- 3/5 [pandas]\n",
      "   ------------------------ --------------- 3/5 [pandas]\n",
      "   ------------------------ --------------- 3/5 [pandas]\n",
      "   ------------------------ --------------- 3/5 [pandas]\n",
      "   ------------------------ --------------- 3/5 [pandas]\n",
      "   ------------------------ --------------- 3/5 [pandas]\n",
      "   ------------------------ --------------- 3/5 [pandas]\n",
      "   ------------------------ --------------- 3/5 [pandas]\n",
      "   ------------------------ --------------- 3/5 [pandas]\n",
      "   ------------------------ --------------- 3/5 [pandas]\n",
      "   ------------------------ --------------- 3/5 [pandas]\n",
      "   -------------------------------- ------- 4/5 [Faker]\n",
      "   -------------------------------- ------- 4/5 [Faker]\n",
      "   -------------------------------- ------- 4/5 [Faker]\n",
      "   -------------------------------- ------- 4/5 [Faker]\n",
      "   -------------------------------- ------- 4/5 [Faker]\n",
      "   -------------------------------- ------- 4/5 [Faker]\n",
      "   -------------------------------- ------- 4/5 [Faker]\n",
      "   -------------------------------- ------- 4/5 [Faker]\n",
      "   -------------------------------- ------- 4/5 [Faker]\n",
      "   -------------------------------- ------- 4/5 [Faker]\n",
      "   -------------------------------- ------- 4/5 [Faker]\n",
      "   -------------------------------- ------- 4/5 [Faker]\n",
      "   -------------------------------- ------- 4/5 [Faker]\n",
      "   -------------------------------- ------- 4/5 [Faker]\n",
      "   -------------------------------- ------- 4/5 [Faker]\n",
      "   -------------------------------- ------- 4/5 [Faker]\n",
      "   -------------------------------- ------- 4/5 [Faker]\n",
      "   -------------------------------- ------- 4/5 [Faker]\n",
      "   ---------------------------------------- 5/5 [Faker]\n",
      "\n",
      "Successfully installed Faker-37.1.0 numpy-2.2.5 pandas-2.2.3 pytz-2025.2 tzdata-2025.2\n"
     ]
    }
   ],
   "source": [
    "!pip install Faker pandas numpy"
   ]
  },
  {
   "cell_type": "markdown",
   "id": "6f124ab0-85fb-459a-b7be-4bf91d5a5d8b",
   "metadata": {},
   "source": [
    "Importamos las librerías"
   ]
  },
  {
   "cell_type": "code",
   "execution_count": 1,
   "id": "7712fa0d-0e31-4a17-88d8-d6c2eb3c7313",
   "metadata": {},
   "outputs": [],
   "source": [
    "import pandas as pd\n",
    "import numpy as np\n",
    "from faker import Faker\n",
    "import random"
   ]
  },
  {
   "cell_type": "markdown",
   "id": "c588d35f-fa17-4097-b686-af64f2a83278",
   "metadata": {},
   "source": [
    "Creamos 1000 registros para el dataset"
   ]
  },
  {
   "cell_type": "code",
   "execution_count": 2,
   "id": "fb849b83-0947-49e2-81b3-cc9cb2a890c3",
   "metadata": {},
   "outputs": [],
   "source": [
    "num_registros = 1000"
   ]
  },
  {
   "cell_type": "markdown",
   "id": "0cd117e9-c2a2-4d79-b482-1b1c316aec97",
   "metadata": {},
   "source": [
    "Generamos una lista con los tipos de productos que va a tener el dataset"
   ]
  },
  {
   "cell_type": "code",
   "execution_count": 3,
   "id": "1d6e5584-d43a-4d0c-aef3-fd0a917c460d",
   "metadata": {},
   "outputs": [],
   "source": [
    "productos_lista = ['Laptop', 'Teclado', 'Mouse', 'Monitor', 'Webcam', 'Microfono', 'Impresora', 'Router', 'Disco Duro', 'USB', 'Auriculares', 'Altavoces']"
   ]
  },
  {
   "cell_type": "markdown",
   "id": "4e4242c4-77ac-4b8c-b3d9-c4bf7973d35a",
   "metadata": {},
   "source": [
    "Generamos un diccionario con los ´precios de los productos"
   ]
  },
  {
   "cell_type": "code",
   "execution_count": 5,
   "id": "60642dc5-c3f2-4404-9475-9780d0f5f431",
   "metadata": {},
   "outputs": [],
   "source": [
    "precios_lista = {\n",
    "    'Laptop': 1200, 'Teclado': 75, 'Mouse': 25, 'Monitor': 300, 'Webcam': 50,\n",
    "    'Microfono': 80, 'Impresora': 250, 'Router': 100, 'Disco Duro': 150,\n",
    "    'USB': 15, 'Auriculares': 60, 'Altavoces': 120\n",
    "}"
   ]
  },
  {
   "cell_type": "markdown",
   "id": "fb1c274f-c029-4f1d-919e-fd380bac688c",
   "metadata": {},
   "source": [
    "Generamos una lista de regiones en donde se va a realizar las ventas"
   ]
  },
  {
   "cell_type": "code",
   "execution_count": 6,
   "id": "c26d181f-afbf-4fb5-91ab-87791338834c",
   "metadata": {},
   "outputs": [],
   "source": [
    "regiones_lista = ['Norte', 'Sur', 'Este', 'Oeste', 'Centro', 'Noroeste', 'Sureste']"
   ]
  },
  {
   "cell_type": "markdown",
   "id": "c6a7ba9e-f879-46a9-9524-1e716bf333ee",
   "metadata": {},
   "source": [
    "Generamos la estructura del Dataframe"
   ]
  },
  {
   "cell_type": "code",
   "execution_count": 8,
   "id": "14824e7c-282b-43b7-a4c5-fef158b61333",
   "metadata": {},
   "outputs": [],
   "source": [
    "data = {\n",
    "    'ID_Venta': [],\n",
    "    'Producto': [],\n",
    "    'Cantidad': [],\n",
    "    'Precio': [],\n",
    "    'Fecha_Venta': [],\n",
    "    'Region': []\n",
    "}\n"
   ]
  },
  {
   "cell_type": "markdown",
   "id": "b4086d44-7192-4f4b-a14b-82f276a5554e",
   "metadata": {},
   "source": [
    "Creamos los datos par el dataset"
   ]
  },
  {
   "cell_type": "code",
   "execution_count": 9,
   "id": "2743d59d-bb9f-4f2b-bc11-1ec467a6e888",
   "metadata": {},
   "outputs": [],
   "source": [
    "fake = Faker()"
   ]
  },
  {
   "cell_type": "code",
   "execution_count": 10,
   "id": "62c8f2ad-4156-4d3c-99ea-792336edf256",
   "metadata": {},
   "outputs": [],
   "source": [
    "for i in range(num_registros):\n",
    "    producto = random.choice(productos_lista)\n",
    "    precio = precios_lista[producto]\n",
    "        # Asegurarse de que el precio no sea negativo\n",
    "    precio = max(1.0, precio)\n",
    "\n",
    "    data['ID_Venta'].append(i + 1)\n",
    "    data['Producto'].append(producto)\n",
    "    data['Cantidad'].append(random.randint(1, 10)) # Cantidad entre 1 y 10\n",
    "    data['Precio'].append(precio)\n",
    "    data['Fecha_Venta'].append(fake.date_between(start_date='-365d', end_date='today').strftime('%Y-%m-%d'))\n",
    "    data['Region'].append(random.choice(regiones_lista))\n",
    "\n",
    "df = pd.DataFrame(data)\n",
    "df.to_csv('datos_ventas.csv', index=False)\n"
   ]
  },
  {
   "cell_type": "markdown",
   "id": "eac07fdf-3f2f-4a3c-9478-9fd9f007e6bd",
   "metadata": {},
   "source": [
    "Leemos el dataset creado del archivo .csv"
   ]
  },
  {
   "cell_type": "code",
   "execution_count": 11,
   "id": "71e4da12-b683-4498-bda3-78b1fabf7565",
   "metadata": {},
   "outputs": [],
   "source": [
    "#import pandas as pd\n",
    "df_ventas = pd.read_csv('datos_ventas.csv', parse_dates=['Fecha_Venta'])"
   ]
  },
  {
   "cell_type": "markdown",
   "id": "fd4e7494-5234-49bc-8db7-3c975199158b",
   "metadata": {},
   "source": [
    "Lectura de las cabeceras del dataframe"
   ]
  },
  {
   "cell_type": "code",
   "execution_count": 12,
   "id": "78b9689d-8b6e-4178-9165-1723087d0cf1",
   "metadata": {},
   "outputs": [
    {
     "name": "stdout",
     "output_type": "stream",
     "text": [
      "   ID_Venta     Producto  Cantidad  Precio Fecha_Venta   Region\n",
      "0         1      Teclado         8      75  2024-07-22  Sureste\n",
      "1         2       Router         4     100  2024-07-10    Norte\n",
      "2         3    Microfono         6      80  2025-01-17  Sureste\n",
      "3         4    Impresora         4     250  2025-01-17     Este\n",
      "4         5  Auriculares         9      60  2024-09-15  Sureste\n"
     ]
    }
   ],
   "source": [
    "print(df_ventas.head())\n"
   ]
  },
  {
   "cell_type": "markdown",
   "id": "43691bfe-8d9f-4341-a598-dd9bc51d3ff6",
   "metadata": {},
   "source": [
    "Verificación de los tipos de datos"
   ]
  },
  {
   "cell_type": "code",
   "execution_count": 13,
   "id": "94926e21-e119-4821-bfa9-55de479029ea",
   "metadata": {},
   "outputs": [
    {
     "name": "stdout",
     "output_type": "stream",
     "text": [
      "<class 'pandas.core.frame.DataFrame'>\n",
      "RangeIndex: 1000 entries, 0 to 999\n",
      "Data columns (total 6 columns):\n",
      " #   Column       Non-Null Count  Dtype         \n",
      "---  ------       --------------  -----         \n",
      " 0   ID_Venta     1000 non-null   int64         \n",
      " 1   Producto     1000 non-null   object        \n",
      " 2   Cantidad     1000 non-null   int64         \n",
      " 3   Precio       1000 non-null   int64         \n",
      " 4   Fecha_Venta  1000 non-null   datetime64[ns]\n",
      " 5   Region       1000 non-null   object        \n",
      "dtypes: datetime64[ns](1), int64(3), object(2)\n",
      "memory usage: 47.0+ KB\n",
      "None\n"
     ]
    }
   ],
   "source": [
    "print(df_ventas.info())"
   ]
  },
  {
   "cell_type": "code",
   "execution_count": null,
   "id": "3674eb54-783c-442b-89a3-2239a15f9e67",
   "metadata": {},
   "outputs": [],
   "source": [
    "Agregamos cuatro columnas al dataframe"
   ]
  },
  {
   "cell_type": "code",
   "execution_count": 14,
   "id": "f09b60c3-0fa0-4c1b-b6cd-c514f11a402e",
   "metadata": {},
   "outputs": [
    {
     "name": "stdout",
     "output_type": "stream",
     "text": [
      "\n",
      "DataFrame con nuevas columnas:\n",
      "   ID_Venta     Producto  Cantidad  Precio Fecha_Venta   Region  Total_Venta  \\\n",
      "0         1      Teclado         8      75  2024-07-22  Sureste          600   \n",
      "1         2       Router         4     100  2024-07-10    Norte          400   \n",
      "2         3    Microfono         6      80  2025-01-17  Sureste          480   \n",
      "3         4    Impresora         4     250  2025-01-17     Este         1000   \n",
      "4         5  Auriculares         9      60  2024-09-15  Sureste          540   \n",
      "\n",
      "   Año_Venta  Mes_Venta Dia_Semana_Venta  Es_Fin_Semana  \n",
      "0       2024          7           Monday          False  \n",
      "1       2024          7        Wednesday          False  \n",
      "2       2025          1           Friday          False  \n",
      "3       2025          1           Friday          False  \n",
      "4       2024          9           Sunday           True  \n"
     ]
    }
   ],
   "source": [
    "# Columna con el valor total de la venta realizada\n",
    "df_ventas['Total_Venta'] = df_ventas['Cantidad'] * df_ventas['Precio']\n",
    "# Columna adicional solo con el año\n",
    "df_ventas['Año_Venta'] = df_ventas['Fecha_Venta'].dt.year\n",
    "# Columna adicional solo con el mes\n",
    "df_ventas['Mes_Venta'] = df_ventas['Fecha_Venta'].dt.month\n",
    "# Día de la semana de venta\n",
    "df_ventas['Dia_Semana_Venta'] = df_ventas['Fecha_Venta'].dt.day_name() \n",
    "#Verificamos si la venta se realizó el fin de semana\n",
    "df_ventas['Es_Fin_Semana'] = df_ventas['Fecha_Venta'].dt.day_name().isin(['Saturday', 'Sunday'])\n",
    "\n",
    "print(\"\\nDataFrame con nuevas columnas:\")\n",
    "print(df_ventas.head())"
   ]
  },
  {
   "cell_type": "code",
   "execution_count": null,
   "id": "5e7f02ec-a744-4a13-8789-dc7fbc5ff287",
   "metadata": {},
   "outputs": [],
   "source": []
  },
  {
   "cell_type": "code",
   "execution_count": 15,
   "id": "a35b71b3-7a4d-45b0-9ceb-5a57a770d236",
   "metadata": {},
   "outputs": [],
   "source": [
    "\n",
    "df_ventas.to_csv('datos_ventas4.csv', index=False)"
   ]
  },
  {
   "cell_type": "code",
   "execution_count": null,
   "id": "a920dc35-6f89-46ae-b07e-bfdafaac839d",
   "metadata": {},
   "outputs": [],
   "source": [
    "VISUALIZACIÓN"
   ]
  },
  {
   "cell_type": "code",
   "execution_count": 16,
   "id": "dcc550bd-5c0a-4434-abe4-d84678bf893f",
   "metadata": {},
   "outputs": [
    {
     "name": "stdout",
     "output_type": "stream",
     "text": [
      "Requirement already satisfied: matplotlib in c:\\utpl\\hia\\taller1\\lib\\site-packages (3.10.1)\n",
      "Requirement already satisfied: seaborn in c:\\utpl\\hia\\taller1\\lib\\site-packages (0.13.2)\n",
      "Requirement already satisfied: contourpy>=1.0.1 in c:\\utpl\\hia\\taller1\\lib\\site-packages (from matplotlib) (1.3.2)\n",
      "Requirement already satisfied: cycler>=0.10 in c:\\utpl\\hia\\taller1\\lib\\site-packages (from matplotlib) (0.12.1)\n",
      "Requirement already satisfied: fonttools>=4.22.0 in c:\\utpl\\hia\\taller1\\lib\\site-packages (from matplotlib) (4.57.0)\n",
      "Requirement already satisfied: kiwisolver>=1.3.1 in c:\\utpl\\hia\\taller1\\lib\\site-packages (from matplotlib) (1.4.8)\n",
      "Requirement already satisfied: numpy>=1.23 in c:\\utpl\\hia\\taller1\\lib\\site-packages (from matplotlib) (2.2.5)\n",
      "Requirement already satisfied: packaging>=20.0 in c:\\utpl\\hia\\taller1\\lib\\site-packages (from matplotlib) (25.0)\n",
      "Requirement already satisfied: pillow>=8 in c:\\utpl\\hia\\taller1\\lib\\site-packages (from matplotlib) (11.2.1)\n",
      "Requirement already satisfied: pyparsing>=2.3.1 in c:\\utpl\\hia\\taller1\\lib\\site-packages (from matplotlib) (3.2.3)\n",
      "Requirement already satisfied: python-dateutil>=2.7 in c:\\utpl\\hia\\taller1\\lib\\site-packages (from matplotlib) (2.9.0.post0)\n",
      "Requirement already satisfied: pandas>=1.2 in c:\\utpl\\hia\\taller1\\lib\\site-packages (from seaborn) (2.2.3)\n",
      "Requirement already satisfied: pytz>=2020.1 in c:\\utpl\\hia\\taller1\\lib\\site-packages (from pandas>=1.2->seaborn) (2025.2)\n",
      "Requirement already satisfied: tzdata>=2022.7 in c:\\utpl\\hia\\taller1\\lib\\site-packages (from pandas>=1.2->seaborn) (2025.2)\n",
      "Requirement already satisfied: six>=1.5 in c:\\utpl\\hia\\taller1\\lib\\site-packages (from python-dateutil>=2.7->matplotlib) (1.17.0)\n"
     ]
    }
   ],
   "source": [
    "!pip install matplotlib seaborn"
   ]
  },
  {
   "cell_type": "code",
   "execution_count": 17,
   "id": "1d7d83da-24d6-4fc6-8fda-4b73793425dc",
   "metadata": {},
   "outputs": [],
   "source": [
    "import matplotlib.pyplot as plt\n",
    "import seaborn as sns\n"
   ]
  },
  {
   "cell_type": "markdown",
   "id": "6c817187-6f0a-4d88-ba65-b35f90616b61",
   "metadata": {},
   "source": [
    "Visualización 1: Total de Ventas por Región "
   ]
  },
  {
   "cell_type": "code",
   "execution_count": 18,
   "id": "3036dfe3-ead6-4bf9-828a-f474851246ac",
   "metadata": {},
   "outputs": [
    {
     "data": {
      "image/png": "[encoded data removed]",
      "text/plain": [
       "<Figure size 640x480 with 1 Axes>"
      ]
     },
     "metadata": {},
     "output_type": "display_data"
    }
   ],
   "source": [
    "ventas_por_region = df_ventas.groupby('Region')['Total_Venta'].sum().sort_values(ascending=False)\n",
    "ventas_por_region.plot(kind='bar')\n",
    "plt.title('Total de Ventas por Región')\n",
    "plt.xlabel('Región')\n",
    "plt.ylabel('Total de Ventas')\n",
    "plt.xticks(rotation=45, ha='right') \n",
    "plt.tight_layout() # Ajustar diseño para que las etiquetas no se corten\n",
    "plt.show()\n"
   ]
  },
  {
   "cell_type": "markdown",
   "id": "7a190d14-08ba-40a4-a863-34de6d89d69c",
   "metadata": {},
   "source": [
    "Visualización 2: Distribución del Total de Venta (Histograma)"
   ]
  },
  {
   "cell_type": "code",
   "execution_count": 19,
   "id": "4da2ca16-8572-4335-82c3-99c3e63cae65",
   "metadata": {},
   "outputs": [
    {
     "data": {
      "image/png": "[encoded data removed]",
      "text/plain": [
       "<Figure size 1000x600 with 1 Axes>"
      ]
     },
     "metadata": {},
     "output_type": "display_data"
    }
   ],
   "source": [
    "plt.figure(figsize=(10, 6))\n",
    "sns.histplot(df_ventas['Total_Venta'], kde=True, bins=30) # kde=True añade una curva de densidad\n",
    "plt.title('Distribución del Total de Venta')\n",
    "plt.xlabel('Total de Venta')\n",
    "plt.ylabel('Frecuencia')\n",
    "plt.show() "
   ]
  },
  {
   "cell_type": "markdown",
   "id": "e322d338-8860-4e54-a054-9511156c1729",
   "metadata": {},
   "source": [
    "Visualización 3  Ventas promedio por Día de la Semana"
   ]
  },
  {
   "cell_type": "code",
   "execution_count": 22,
   "id": "e280d35a-c570-4086-90b1-e984de4fbd08",
   "metadata": {},
   "outputs": [
    {
     "data": {
      "image/png": "[encoded data removed]",
      "text/plain": [
       "<Figure size 1000x600 with 1 Axes>"
      ]
     },
     "metadata": {},
     "output_type": "display_data"
    }
   ],
   "source": [
    "plt.figure(figsize=(10, 6))\n",
    "ventas_por_dia_semana = df_ventas.groupby('Dia_Semana_Venta')['Total_Venta'].mean().reindex([\n",
    "    'Monday', 'Tuesday', 'Wednesday', 'Thursday', 'Friday', 'Saturday', 'Sunday']) # Ordenar días\n",
    "ventas_por_dia_semana.plot(kind='bar')\n",
    "plt.title('Venta Promedio por Día de la Semana')\n",
    "plt.xlabel('Día de la Semana')\n",
    "plt.ylabel('Venta Promedio')\n",
    "plt.xticks(rotation=45, ha='right')\n",
    "plt.tight_layout()\n",
    "plt.show()"
   ]
  },
  {
   "cell_type": "code",
   "execution_count": 23,
   "id": "19325d38-0ffe-4ff8-b224-ceca8233d76d",
   "metadata": {},
   "outputs": [
    {
     "name": "stdout",
     "output_type": "stream",
     "text": [
      "Requirement already satisfied: nbconvert in c:\\utpl\\hia\\taller1\\lib\\site-packages (7.16.6)\n",
      "Requirement already satisfied: beautifulsoup4 in c:\\utpl\\hia\\taller1\\lib\\site-packages (from nbconvert) (4.13.4)\n",
      "Requirement already satisfied: bleach!=5.0.0 in c:\\utpl\\hia\\taller1\\lib\\site-packages (from bleach[css]!=5.0.0->nbconvert) (6.2.0)\n",
      "Requirement already satisfied: defusedxml in c:\\utpl\\hia\\taller1\\lib\\site-packages (from nbconvert) (0.7.1)\n",
      "Requirement already satisfied: jinja2>=3.0 in c:\\utpl\\hia\\taller1\\lib\\site-packages (from nbconvert) (3.1.6)\n",
      "Requirement already satisfied: jupyter-core>=4.7 in c:\\utpl\\hia\\taller1\\lib\\site-packages (from nbconvert) (5.7.2)\n",
      "Requirement already satisfied: jupyterlab-pygments in c:\\utpl\\hia\\taller1\\lib\\site-packages (from nbconvert) (0.3.0)\n",
      "Requirement already satisfied: markupsafe>=2.0 in c:\\utpl\\hia\\taller1\\lib\\site-packages (from nbconvert) (3.0.2)\n",
      "Requirement already satisfied: mistune<4,>=2.0.3 in c:\\utpl\\hia\\taller1\\lib\\site-packages (from nbconvert) (3.1.3)\n",
      "Requirement already satisfied: nbclient>=0.5.0 in c:\\utpl\\hia\\taller1\\lib\\site-packages (from nbconvert) (0.10.2)\n",
      "Requirement already satisfied: nbformat>=5.7 in c:\\utpl\\hia\\taller1\\lib\\site-packages (from nbconvert) (5.10.4)\n",
      "Requirement already satisfied: packaging in c:\\utpl\\hia\\taller1\\lib\\site-packages (from nbconvert) (25.0)\n",
      "Requirement already satisfied: pandocfilters>=1.4.1 in c:\\utpl\\hia\\taller1\\lib\\site-packages (from nbconvert) (1.5.1)\n",
      "Requirement already satisfied: pygments>=2.4.1 in c:\\utpl\\hia\\taller1\\lib\\site-packages (from nbconvert) (2.19.1)\n",
      "Requirement already satisfied: traitlets>=5.1 in c:\\utpl\\hia\\taller1\\lib\\site-packages (from nbconvert) (5.14.3)\n",
      "Requirement already satisfied: webencodings in c:\\utpl\\hia\\taller1\\lib\\site-packages (from bleach!=5.0.0->bleach[css]!=5.0.0->nbconvert) (0.5.1)\n",
      "Requirement already satisfied: tinycss2<1.5,>=1.1.0 in c:\\utpl\\hia\\taller1\\lib\\site-packages (from bleach[css]!=5.0.0->nbconvert) (1.4.0)\n",
      "Requirement already satisfied: platformdirs>=2.5 in c:\\utpl\\hia\\taller1\\lib\\site-packages (from jupyter-core>=4.7->nbconvert) (4.3.7)\n",
      "Requirement already satisfied: pywin32>=300 in c:\\utpl\\hia\\taller1\\lib\\site-packages (from jupyter-core>=4.7->nbconvert) (310)\n",
      "Requirement already satisfied: jupyter-client>=6.1.12 in c:\\utpl\\hia\\taller1\\lib\\site-packages (from nbclient>=0.5.0->nbconvert) (8.6.3)\n",
      "Requirement already satisfied: python-dateutil>=2.8.2 in c:\\utpl\\hia\\taller1\\lib\\site-packages (from jupyter-client>=6.1.12->nbclient>=0.5.0->nbconvert) (2.9.0.post0)\n",
      "Requirement already satisfied: pyzmq>=23.0 in c:\\utpl\\hia\\taller1\\lib\\site-packages (from jupyter-client>=6.1.12->nbclient>=0.5.0->nbconvert) (26.4.0)\n",
      "Requirement already satisfied: tornado>=6.2 in c:\\utpl\\hia\\taller1\\lib\\site-packages (from jupyter-client>=6.1.12->nbclient>=0.5.0->nbconvert) (6.4.2)\n",
      "Requirement already satisfied: fastjsonschema>=2.15 in c:\\utpl\\hia\\taller1\\lib\\site-packages (from nbformat>=5.7->nbconvert) (2.21.1)\n",
      "Requirement already satisfied: jsonschema>=2.6 in c:\\utpl\\hia\\taller1\\lib\\site-packages (from nbformat>=5.7->nbconvert) (4.23.0)\n",
      "Requirement already satisfied: attrs>=22.2.0 in c:\\utpl\\hia\\taller1\\lib\\site-packages (from jsonschema>=2.6->nbformat>=5.7->nbconvert) (25.3.0)\n",
      "Requirement already satisfied: jsonschema-specifications>=2023.03.6 in c:\\utpl\\hia\\taller1\\lib\\site-packages (from jsonschema>=2.6->nbformat>=5.7->nbconvert) (2025.4.1)\n",
      "Requirement already satisfied: referencing>=0.28.4 in c:\\utpl\\hia\\taller1\\lib\\site-packages (from jsonschema>=2.6->nbformat>=5.7->nbconvert) (0.36.2)\n",
      "Requirement already satisfied: rpds-py>=0.7.1 in c:\\utpl\\hia\\taller1\\lib\\site-packages (from jsonschema>=2.6->nbformat>=5.7->nbconvert) (0.24.0)\n",
      "Requirement already satisfied: six>=1.5 in c:\\utpl\\hia\\taller1\\lib\\site-packages (from python-dateutil>=2.8.2->jupyter-client>=6.1.12->nbclient>=0.5.0->nbconvert) (1.17.0)\n",
      "Requirement already satisfied: typing-extensions>=4.4.0 in c:\\utpl\\hia\\taller1\\lib\\site-packages (from referencing>=0.28.4->jsonschema>=2.6->nbformat>=5.7->nbconvert) (4.13.2)\n",
      "Requirement already satisfied: soupsieve>1.2 in c:\\utpl\\hia\\taller1\\lib\\site-packages (from beautifulsoup4->nbconvert) (2.7)\n"
     ]
    }
   ],
   "source": [
    "!pip install nbconvert\n"
   ]
  },
  {
   "cell_type": "code",
   "execution_count": null,
   "id": "8355694d-cc64-4e48-8164-c0c5644f3b13",
   "metadata": {},
   "outputs": [],
   "source": []
  }
 ],
 "metadata": {
  "kernelspec": {
   "display_name": "Python 3 (ipykernel)",
   "language": "python",
   "name": "python3"
  },
  "language_info": {
   "codemirror_mode": {
    "name": "ipython",
    "version": 3
   },
   "file_extension": ".py",
   "mimetype": "text/x-python",
   "name": "python",
   "nbconvert_exporter": "python",
   "pygments_lexer": "ipython3",
   "version": "3.12.8"
  }
 },
 "nbformat": 4,
 "nbformat_minor": 5
}
